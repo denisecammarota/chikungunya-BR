{
 "cells": [
  {
   "cell_type": "markdown",
   "id": "9c4c0a54",
   "metadata": {},
   "source": [
    "# Calculating ages of infection (normalized and not normalized)"
   ]
  },
  {
   "cell_type": "markdown",
   "id": "efc91940",
   "metadata": {},
   "source": [
    "## Importing libraries and paths"
   ]
  },
  {
   "cell_type": "code",
   "execution_count": 133,
   "id": "baa557bf",
   "metadata": {},
   "outputs": [],
   "source": [
    "import numpy as np\n",
    "import pandas as pd\n",
    "import matplotlib.pyplot as plt \n",
    "import seaborn as sns\n",
    "import sys\n",
    "import plotly.graph_objects as go\n",
    "import matplotlib.pylab as pl"
   ]
  },
  {
   "cell_type": "code",
   "execution_count": 134,
   "id": "c5dfb473",
   "metadata": {},
   "outputs": [],
   "source": [
    "sys.path.append('..')"
   ]
  },
  {
   "cell_type": "markdown",
   "id": "f68b7cf8",
   "metadata": {},
   "source": [
    "## Loading cases with ages data from Python"
   ]
  },
  {
   "cell_type": "code",
   "execution_count": 135,
   "id": "04cb18a3",
   "metadata": {},
   "outputs": [],
   "source": [
    "file_age = 'Data/chik_BR_ageclasses.csv'\n",
    "age_data = pd.read_csv(file_age, delimiter = ';', dtype={'ID_MN_RESI': str, 'age_range': str})\n",
    "#age_data = age_data.dropna(axis = 0)\n",
    "age_data = age_data.drop(columns = ['Unnamed: 0'])"
   ]
  },
  {
   "cell_type": "code",
   "execution_count": 136,
   "id": "74dee8b8",
   "metadata": {},
   "outputs": [
    {
     "data": {
      "text/html": [
       "<div>\n",
       "<style scoped>\n",
       "    .dataframe tbody tr th:only-of-type {\n",
       "        vertical-align: middle;\n",
       "    }\n",
       "\n",
       "    .dataframe tbody tr th {\n",
       "        vertical-align: top;\n",
       "    }\n",
       "\n",
       "    .dataframe thead th {\n",
       "        text-align: right;\n",
       "    }\n",
       "</style>\n",
       "<table border=\"1\" class=\"dataframe\">\n",
       "  <thead>\n",
       "    <tr style=\"text-align: right;\">\n",
       "      <th></th>\n",
       "      <th>index</th>\n",
       "      <th>NU_IDADE_N</th>\n",
       "      <th>ANO</th>\n",
       "      <th>ID_MN_RESI</th>\n",
       "      <th>age_range</th>\n",
       "    </tr>\n",
       "  </thead>\n",
       "  <tbody>\n",
       "    <tr>\n",
       "      <th>0</th>\n",
       "      <td>0</td>\n",
       "      <td>51.0</td>\n",
       "      <td>2015</td>\n",
       "      <td>353650</td>\n",
       "      <td>(49, 59]</td>\n",
       "    </tr>\n",
       "    <tr>\n",
       "      <th>1</th>\n",
       "      <td>1</td>\n",
       "      <td>32.0</td>\n",
       "      <td>2015</td>\n",
       "      <td>292700</td>\n",
       "      <td>(29, 39]</td>\n",
       "    </tr>\n",
       "    <tr>\n",
       "      <th>2</th>\n",
       "      <td>2</td>\n",
       "      <td>28.0</td>\n",
       "      <td>2015</td>\n",
       "      <td>292700</td>\n",
       "      <td>(19, 29]</td>\n",
       "    </tr>\n",
       "    <tr>\n",
       "      <th>3</th>\n",
       "      <td>3</td>\n",
       "      <td>28.0</td>\n",
       "      <td>2015</td>\n",
       "      <td>291080</td>\n",
       "      <td>(19, 29]</td>\n",
       "    </tr>\n",
       "    <tr>\n",
       "      <th>4</th>\n",
       "      <td>4</td>\n",
       "      <td>55.0</td>\n",
       "      <td>2015</td>\n",
       "      <td>292240</td>\n",
       "      <td>(49, 59]</td>\n",
       "    </tr>\n",
       "    <tr>\n",
       "      <th>...</th>\n",
       "      <td>...</td>\n",
       "      <td>...</td>\n",
       "      <td>...</td>\n",
       "      <td>...</td>\n",
       "      <td>...</td>\n",
       "    </tr>\n",
       "    <tr>\n",
       "      <th>820968</th>\n",
       "      <td>125255</td>\n",
       "      <td>8.0</td>\n",
       "      <td>2023</td>\n",
       "      <td>171610</td>\n",
       "      <td>(4, 9]</td>\n",
       "    </tr>\n",
       "    <tr>\n",
       "      <th>820969</th>\n",
       "      <td>125256</td>\n",
       "      <td>35.0</td>\n",
       "      <td>2023</td>\n",
       "      <td>171610</td>\n",
       "      <td>(29, 39]</td>\n",
       "    </tr>\n",
       "    <tr>\n",
       "      <th>820970</th>\n",
       "      <td>125257</td>\n",
       "      <td>48.0</td>\n",
       "      <td>2023</td>\n",
       "      <td>171610</td>\n",
       "      <td>(39, 49]</td>\n",
       "    </tr>\n",
       "    <tr>\n",
       "      <th>820971</th>\n",
       "      <td>125258</td>\n",
       "      <td>34.0</td>\n",
       "      <td>2023</td>\n",
       "      <td>171610</td>\n",
       "      <td>(29, 39]</td>\n",
       "    </tr>\n",
       "    <tr>\n",
       "      <th>820972</th>\n",
       "      <td>125259</td>\n",
       "      <td>47.0</td>\n",
       "      <td>2023</td>\n",
       "      <td>171610</td>\n",
       "      <td>(39, 49]</td>\n",
       "    </tr>\n",
       "  </tbody>\n",
       "</table>\n",
       "<p>820973 rows × 5 columns</p>\n",
       "</div>"
      ],
      "text/plain": [
       "         index  NU_IDADE_N   ANO ID_MN_RESI age_range\n",
       "0            0        51.0  2015     353650  (49, 59]\n",
       "1            1        32.0  2015     292700  (29, 39]\n",
       "2            2        28.0  2015     292700  (19, 29]\n",
       "3            3        28.0  2015     291080  (19, 29]\n",
       "4            4        55.0  2015     292240  (49, 59]\n",
       "...        ...         ...   ...        ...       ...\n",
       "820968  125255         8.0  2023     171610    (4, 9]\n",
       "820969  125256        35.0  2023     171610  (29, 39]\n",
       "820970  125257        48.0  2023     171610  (39, 49]\n",
       "820971  125258        34.0  2023     171610  (29, 39]\n",
       "820972  125259        47.0  2023     171610  (39, 49]\n",
       "\n",
       "[820973 rows x 5 columns]"
      ]
     },
     "execution_count": 136,
     "metadata": {},
     "output_type": "execute_result"
    }
   ],
   "source": [
    "age_data"
   ]
  },
  {
   "cell_type": "code",
   "execution_count": 137,
   "id": "a2867fc7",
   "metadata": {},
   "outputs": [
    {
     "data": {
      "text/plain": [
       "array(['(49, 59]', '(29, 39]', '(19, 29]', '(59, 69]', '(4, 9]',\n",
       "       '(79, 120]', '(14, 19]', '(39, 49]', '(69, 79]', '(0, 4]',\n",
       "       '(9, 14]', nan], dtype=object)"
      ]
     },
     "execution_count": 137,
     "metadata": {},
     "output_type": "execute_result"
    }
   ],
   "source": [
    "age_data['age_range'].unique()"
   ]
  },
  {
   "cell_type": "code",
   "execution_count": 138,
   "id": "cc612153",
   "metadata": {},
   "outputs": [],
   "source": [
    "age_data = age_data[age_data['ANO'] >= 2016]\n",
    "age_data = age_data[age_data['ANO'] <= 2024]"
   ]
  },
  {
   "cell_type": "code",
   "execution_count": 139,
   "id": "86a30ea6",
   "metadata": {},
   "outputs": [],
   "source": [
    "age_data['NU_ANO'] = age_data['ANO']\n",
    "age_data['ID_MUNICIP'] = age_data['ID_MN_RESI']\n",
    "age_data = age_data.drop(columns = 'ANO')"
   ]
  },
  {
   "cell_type": "code",
   "execution_count": 140,
   "id": "3520ba53",
   "metadata": {},
   "outputs": [],
   "source": [
    "age_data = age_data[['NU_ANO','ID_MUNICIP','age_range']]"
   ]
  },
  {
   "cell_type": "code",
   "execution_count": 141,
   "id": "1b0832e0",
   "metadata": {},
   "outputs": [],
   "source": [
    "age_data['ID_MUNICIP'] = age_data['ID_MUNICIP'].astype(str)"
   ]
  },
  {
   "cell_type": "code",
   "execution_count": 142,
   "id": "5dcb3309",
   "metadata": {},
   "outputs": [],
   "source": [
    "df = pd.read_csv('Data/municipalities_BR.csv', sep = ';')\n",
    "df = df.reset_index()\n",
    "df = df[['level_0','level_1','level_2','level_3','level_4','level_5','level_6','level_7','level_8','level_9',\n",
    "         'level_10','level_11']]\n",
    "df['mun'] = df['level_0'].str[0:6]\n",
    "df = df[['mun','level_1','level_2','level_3','level_4','level_5','level_6','level_7','level_8','level_9',\n",
    "         'level_10','level_11']]"
   ]
  },
  {
   "cell_type": "code",
   "execution_count": 143,
   "id": "c8f9536f",
   "metadata": {},
   "outputs": [],
   "source": [
    "age_categories = ['(0, 4]','(4, 9]','(9, 14]','(14, 19]','(19, 29]','(29, 39]','(39, 49]',\n",
    "      '(49, 59]','(59, 69]','(69, 79]','(79, 120]']"
   ]
  },
  {
   "cell_type": "code",
   "execution_count": 144,
   "id": "9b8b1cc0",
   "metadata": {},
   "outputs": [],
   "source": [
    "a = age_data[age_data['ID_MUNICIP'] == '354850']"
   ]
  },
  {
   "cell_type": "code",
   "execution_count": 145,
   "id": "069ffba7",
   "metadata": {},
   "outputs": [
    {
     "data": {
      "text/plain": [
       "array(['(49, 59]', '(29, 39]', '(39, 49]', '(79, 120]', '(19, 29]',\n",
       "       '(59, 69]', '(69, 79]', '(9, 14]', '(14, 19]', '(4, 9]', '(0, 4]',\n",
       "       nan], dtype=object)"
      ]
     },
     "execution_count": 145,
     "metadata": {},
     "output_type": "execute_result"
    }
   ],
   "source": [
    "a['age_range'].unique()"
   ]
  },
  {
   "cell_type": "code",
   "execution_count": 146,
   "id": "51df23c5",
   "metadata": {},
   "outputs": [
    {
     "data": {
      "text/html": [
       "<div>\n",
       "<style scoped>\n",
       "    .dataframe tbody tr th:only-of-type {\n",
       "        vertical-align: middle;\n",
       "    }\n",
       "\n",
       "    .dataframe tbody tr th {\n",
       "        vertical-align: top;\n",
       "    }\n",
       "\n",
       "    .dataframe thead th {\n",
       "        text-align: right;\n",
       "    }\n",
       "</style>\n",
       "<table border=\"1\" class=\"dataframe\">\n",
       "  <thead>\n",
       "    <tr style=\"text-align: right;\">\n",
       "      <th></th>\n",
       "      <th>NU_ANO</th>\n",
       "      <th>ID_MUNICIP</th>\n",
       "      <th>age_range</th>\n",
       "    </tr>\n",
       "  </thead>\n",
       "  <tbody>\n",
       "    <tr>\n",
       "      <th>46782</th>\n",
       "      <td>2016</td>\n",
       "      <td>354850</td>\n",
       "      <td>(49, 59]</td>\n",
       "    </tr>\n",
       "    <tr>\n",
       "      <th>46783</th>\n",
       "      <td>2016</td>\n",
       "      <td>354850</td>\n",
       "      <td>(29, 39]</td>\n",
       "    </tr>\n",
       "    <tr>\n",
       "      <th>46803</th>\n",
       "      <td>2016</td>\n",
       "      <td>354850</td>\n",
       "      <td>(39, 49]</td>\n",
       "    </tr>\n",
       "    <tr>\n",
       "      <th>46809</th>\n",
       "      <td>2016</td>\n",
       "      <td>354850</td>\n",
       "      <td>(29, 39]</td>\n",
       "    </tr>\n",
       "    <tr>\n",
       "      <th>46810</th>\n",
       "      <td>2016</td>\n",
       "      <td>354850</td>\n",
       "      <td>(49, 59]</td>\n",
       "    </tr>\n",
       "    <tr>\n",
       "      <th>...</th>\n",
       "      <td>...</td>\n",
       "      <td>...</td>\n",
       "      <td>...</td>\n",
       "    </tr>\n",
       "    <tr>\n",
       "      <th>818944</th>\n",
       "      <td>2023</td>\n",
       "      <td>354850</td>\n",
       "      <td>(49, 59]</td>\n",
       "    </tr>\n",
       "    <tr>\n",
       "      <th>818950</th>\n",
       "      <td>2023</td>\n",
       "      <td>354850</td>\n",
       "      <td>(39, 49]</td>\n",
       "    </tr>\n",
       "    <tr>\n",
       "      <th>818996</th>\n",
       "      <td>2023</td>\n",
       "      <td>354850</td>\n",
       "      <td>(49, 59]</td>\n",
       "    </tr>\n",
       "    <tr>\n",
       "      <th>819418</th>\n",
       "      <td>2023</td>\n",
       "      <td>354850</td>\n",
       "      <td>(0, 4]</td>\n",
       "    </tr>\n",
       "    <tr>\n",
       "      <th>819472</th>\n",
       "      <td>2023</td>\n",
       "      <td>354850</td>\n",
       "      <td>(9, 14]</td>\n",
       "    </tr>\n",
       "  </tbody>\n",
       "</table>\n",
       "<p>7245 rows × 3 columns</p>\n",
       "</div>"
      ],
      "text/plain": [
       "        NU_ANO ID_MUNICIP age_range\n",
       "46782     2016     354850  (49, 59]\n",
       "46783     2016     354850  (29, 39]\n",
       "46803     2016     354850  (39, 49]\n",
       "46809     2016     354850  (29, 39]\n",
       "46810     2016     354850  (49, 59]\n",
       "...        ...        ...       ...\n",
       "818944    2023     354850  (49, 59]\n",
       "818950    2023     354850  (39, 49]\n",
       "818996    2023     354850  (49, 59]\n",
       "819418    2023     354850    (0, 4]\n",
       "819472    2023     354850   (9, 14]\n",
       "\n",
       "[7245 rows x 3 columns]"
      ]
     },
     "execution_count": 146,
     "metadata": {},
     "output_type": "execute_result"
    }
   ],
   "source": [
    "a"
   ]
  },
  {
   "cell_type": "code",
   "execution_count": 147,
   "id": "f926b54b",
   "metadata": {},
   "outputs": [],
   "source": [
    "b = a.copy()"
   ]
  },
  {
   "cell_type": "code",
   "execution_count": 148,
   "id": "d12693af",
   "metadata": {},
   "outputs": [
    {
     "data": {
      "text/html": [
       "<div>\n",
       "<style scoped>\n",
       "    .dataframe tbody tr th:only-of-type {\n",
       "        vertical-align: middle;\n",
       "    }\n",
       "\n",
       "    .dataframe tbody tr th {\n",
       "        vertical-align: top;\n",
       "    }\n",
       "\n",
       "    .dataframe thead th {\n",
       "        text-align: right;\n",
       "    }\n",
       "</style>\n",
       "<table border=\"1\" class=\"dataframe\">\n",
       "  <thead>\n",
       "    <tr style=\"text-align: right;\">\n",
       "      <th></th>\n",
       "      <th>NU_ANO</th>\n",
       "      <th>CASE</th>\n",
       "    </tr>\n",
       "  </thead>\n",
       "  <tbody>\n",
       "    <tr>\n",
       "      <th>0</th>\n",
       "      <td>2016</td>\n",
       "      <td>32</td>\n",
       "    </tr>\n",
       "    <tr>\n",
       "      <th>1</th>\n",
       "      <td>2017</td>\n",
       "      <td>18</td>\n",
       "    </tr>\n",
       "    <tr>\n",
       "      <th>2</th>\n",
       "      <td>2018</td>\n",
       "      <td>10</td>\n",
       "    </tr>\n",
       "    <tr>\n",
       "      <th>3</th>\n",
       "      <td>2019</td>\n",
       "      <td>18</td>\n",
       "    </tr>\n",
       "    <tr>\n",
       "      <th>4</th>\n",
       "      <td>2020</td>\n",
       "      <td>126</td>\n",
       "    </tr>\n",
       "    <tr>\n",
       "      <th>5</th>\n",
       "      <td>2021</td>\n",
       "      <td>6672</td>\n",
       "    </tr>\n",
       "    <tr>\n",
       "      <th>6</th>\n",
       "      <td>2022</td>\n",
       "      <td>322</td>\n",
       "    </tr>\n",
       "    <tr>\n",
       "      <th>7</th>\n",
       "      <td>2023</td>\n",
       "      <td>47</td>\n",
       "    </tr>\n",
       "  </tbody>\n",
       "</table>\n",
       "</div>"
      ],
      "text/plain": [
       "   NU_ANO  CASE\n",
       "0    2016    32\n",
       "1    2017    18\n",
       "2    2018    10\n",
       "3    2019    18\n",
       "4    2020   126\n",
       "5    2021  6672\n",
       "6    2022   322\n",
       "7    2023    47"
      ]
     },
     "execution_count": 148,
     "metadata": {},
     "output_type": "execute_result"
    }
   ],
   "source": [
    "b['CASE'] = 1\n",
    "b = b.groupby(['NU_ANO'])['CASE'].sum()\n",
    "b = b.reset_index()\n",
    "b"
   ]
  },
  {
   "cell_type": "markdown",
   "id": "03926df5",
   "metadata": {},
   "source": [
    "## Routine for calculating the incidence rate per cases"
   ]
  },
  {
   "cell_type": "code",
   "execution_count": 149,
   "id": "e2b5a34e",
   "metadata": {},
   "outputs": [],
   "source": [
    "def process_rates(age_data, df, id_municip):\n",
    "    a = age_data[age_data['ID_MUNICIP'] == str(id_municip)] \n",
    "    a = a[['NU_ANO','ID_MUNICIP', 'age_range']]\n",
    "    a['CASES'] = 1\n",
    "    a = a.groupby(['NU_ANO', 'ID_MUNICIP', 'age_range'])['CASES'].sum()\n",
    "    a = a.reset_index(name = 'CASES')\n",
    "    a = a.pivot(index = ['NU_ANO','ID_MUNICIP'], columns = 'age_range', values = 'CASES')\n",
    "    a = a.reset_index()\n",
    "    a = a.fillna(0)\n",
    "    a = a[['NU_ANO','ID_MUNICIP','(0, 4]','(4, 9]','(9, 14]','(14, 19]','(19, 29]','(29, 39]','(39, 49]',\n",
    "      '(49, 59]','(59, 69]','(69, 79]','(79, 120]']]\n",
    "    # a = a[['NU_ANO','ID_MUNICIP','(0, 4]','(4, 9]','(9, 14]','(19, 29]','(29, 39]','(39, 49]',\n",
    "      #'(49, 59]','(59, 69]','(69, 79]','(79, 120]']]\n",
    "    a['Total'] = a[a.keys()[2:]].sum(axis = 1)\n",
    "    df = df[df['mun'] == str(id_municip)]\n",
    "    cols_a = a.keys()[2:-1]\n",
    "    cols_df = df.keys()[1:]\n",
    "    for i in range(len(cols_a)):\n",
    "        a[cols_a[i]] = a[cols_a[i]]/(df[cols_df[i]].to_numpy()[0])\n",
    "    for i in range(len(cols_a)):\n",
    "        a[cols_a[i]] = a[cols_a[i]]/a[a.keys()[-1]]\n",
    "    a = pd.melt(a, id_vars = 'NU_ANO', value_vars=['(0, 4]','(4, 9]','(9, 14]','(14, 19]','(19, 29]','(29, 39]','(39, 49]',\n",
    "      '(49, 59]','(59, 69]','(69, 79]','(79, 120]'])\n",
    "    # a = pd.melt(a, id_vars = 'NU_ANO', value_vars=['(0, 4]','(4, 9]','(9, 14]','(19, 29]','(29, 39]','(39, 49]',\n",
    "      # '(49, 59]','(59, 69]','(69, 79]','(79, 120]'])\n",
    "    return a"
   ]
  },
  {
   "cell_type": "code",
   "execution_count": 150,
   "id": "98d9491a",
   "metadata": {},
   "outputs": [],
   "source": [
    "a = process_rates(age_data, df, 354850)\n",
    "#a = process_rates(age_data, df, 420540)"
   ]
  },
  {
   "cell_type": "code",
   "execution_count": 151,
   "id": "6eb7ff18",
   "metadata": {},
   "outputs": [
    {
     "data": {
      "image/png": "[encoded data removed]",
      "text/plain": [
       "<Figure size 640x480 with 1 Axes>"
      ]
     },
     "metadata": {},
     "output_type": "display_data"
    }
   ],
   "source": [
    "i = 0\n",
    "for year in a['NU_ANO'].unique():\n",
    "    a_tmp = a[a['NU_ANO'] == year]\n",
    "    plt.plot(a_tmp['age_range'],a_tmp['value'],'-o', label = year, linewidth = 2)\n",
    "    i = i + 1\n",
    "plt.legend()\n",
    "plt.show()"
   ]
  },
  {
   "cell_type": "code",
   "execution_count": 152,
   "id": "ad69ea32",
   "metadata": {},
   "outputs": [],
   "source": [
    "list_ano = []\n",
    "for ano in a['NU_ANO'].unique():\n",
    "    list_ano.append(a[a['NU_ANO'] == ano]['value'].tolist())\n",
    "list_ano = np.array(list_ano)\n",
    "list_ano_mean = np.mean(list_ano, axis = 0)\n",
    "list_ano_std = np.std(list_ano, axis = 0)"
   ]
  },
  {
   "cell_type": "code",
   "execution_count": 153,
   "id": "ddd350bc",
   "metadata": {},
   "outputs": [
    {
     "data": {
      "image/png": "[encoded data removed]",
      "text/plain": [
       "<Figure size 640x480 with 1 Axes>"
      ]
     },
     "metadata": {},
     "output_type": "display_data"
    }
   ],
   "source": [
    "i = 0\n",
    "for year in a['NU_ANO'].unique():\n",
    "    a_tmp = a[a['NU_ANO'] == year]\n",
    "    plt.plot(a_tmp['age_range'],a_tmp['value'],'-o', label = year, linewidth = 2)\n",
    "    i = i + 1\n",
    "plt.plot(a_tmp['age_range'],list_ano_mean,color = 'k', linewidth = 3)\n",
    "plt.plot(a_tmp['age_range'], list_ano_mean + list_ano_std, color = 'blue', linewidth = 3)\n",
    "plt.plot(a_tmp['age_range'], list_ano_mean - list_ano_std, color = 'blue', linewidth = 3)\n",
    "plt.fill_between(a_tmp['age_range'],list_ano_mean, list_ano_mean+list_ano_std, color='blue',alpha = 0.5)\n",
    "plt.fill_between(a_tmp['age_range'],list_ano_mean, list_ano_mean-list_ano_std, color='blue',alpha = 0.5)\n",
    "plt.show()"
   ]
  },
  {
   "cell_type": "code",
   "execution_count": 22,
   "id": "3c3d2d79",
   "metadata": {},
   "outputs": [
    {
     "data": {
      "text/plain": [
       "9"
      ]
     },
     "execution_count": 22,
     "metadata": {},
     "output_type": "execute_result"
    }
   ],
   "source": [
    "np.argmax(list_ano_mean)"
   ]
  },
  {
   "cell_type": "markdown",
   "id": "11144658",
   "metadata": {},
   "source": [
    "## Cities with the most cases - general statistics"
   ]
  },
  {
   "cell_type": "code",
   "execution_count": 23,
   "id": "5d56bdec",
   "metadata": {},
   "outputs": [],
   "source": [
    "df['Total'] = df[df.keys()[1:]].sum(axis = 1)"
   ]
  },
  {
   "cell_type": "code",
   "execution_count": 24,
   "id": "46ea3a46",
   "metadata": {},
   "outputs": [],
   "source": [
    "df_cities = df[['mun','Total']]"
   ]
  },
  {
   "cell_type": "code",
   "execution_count": 25,
   "id": "d33b6a03",
   "metadata": {},
   "outputs": [
    {
     "name": "stderr",
     "output_type": "stream",
     "text": [
      "C:\\Users\\denis\\AppData\\Local\\Temp\\ipykernel_13256\\206027676.py:1: SettingWithCopyWarning: \n",
      "A value is trying to be set on a copy of a slice from a DataFrame\n",
      "\n",
      "See the caveats in the documentation: https://pandas.pydata.org/pandas-docs/stable/user_guide/indexing.html#returning-a-view-versus-a-copy\n",
      "  df_cities.drop(df_cities.tail(1).index,inplace=True)\n"
     ]
    }
   ],
   "source": [
    "df_cities.drop(df_cities.tail(1).index,inplace=True)"
   ]
  },
  {
   "cell_type": "code",
   "execution_count": 26,
   "id": "763b6074",
   "metadata": {},
   "outputs": [
    {
     "name": "stderr",
     "output_type": "stream",
     "text": [
      "C:\\Users\\denis\\AppData\\Local\\Temp\\ipykernel_13256\\1357237147.py:1: SettingWithCopyWarning: \n",
      "A value is trying to be set on a copy of a slice from a DataFrame.\n",
      "Try using .loc[row_indexer,col_indexer] = value instead\n",
      "\n",
      "See the caveats in the documentation: https://pandas.pydata.org/pandas-docs/stable/user_guide/indexing.html#returning-a-view-versus-a-copy\n",
      "  df_cities['mun'] = df_cities['mun'].astype(int)\n"
     ]
    }
   ],
   "source": [
    "df_cities['mun'] = df_cities['mun'].astype(int)"
   ]
  },
  {
   "cell_type": "code",
   "execution_count": 27,
   "id": "7bfdd397",
   "metadata": {},
   "outputs": [],
   "source": [
    "city_data = age_data\n",
    "city_data['CASE'] = 1\n",
    "city_data = city_data.groupby(['ID_MUNICIP'])['CASE'].sum()\n",
    "city_data = city_data.reset_index(name = 'CASES')"
   ]
  },
  {
   "cell_type": "code",
   "execution_count": 28,
   "id": "7d5e346f",
   "metadata": {},
   "outputs": [
    {
     "ename": "ValueError",
     "evalue": "You are trying to merge on object and int32 columns. If you wish to proceed you should use pd.concat",
     "output_type": "error",
     "traceback": [
      "\u001b[1;31m---------------------------------------------------------------------------\u001b[0m",
      "\u001b[1;31mValueError\u001b[0m                                Traceback (most recent call last)",
      "Cell \u001b[1;32mIn[28], line 1\u001b[0m\n\u001b[1;32m----> 1\u001b[0m city_data \u001b[38;5;241m=\u001b[39m \u001b[43mcity_data\u001b[49m\u001b[38;5;241;43m.\u001b[39;49m\u001b[43mmerge\u001b[49m\u001b[43m(\u001b[49m\u001b[43mdf_cities\u001b[49m\u001b[43m,\u001b[49m\u001b[43m \u001b[49m\u001b[43mhow\u001b[49m\u001b[43m \u001b[49m\u001b[38;5;241;43m=\u001b[39;49m\u001b[43m \u001b[49m\u001b[38;5;124;43m'\u001b[39;49m\u001b[38;5;124;43mleft\u001b[39;49m\u001b[38;5;124;43m'\u001b[39;49m\u001b[43m,\u001b[49m\u001b[43m \u001b[49m\u001b[43mleft_on\u001b[49m\u001b[43m \u001b[49m\u001b[38;5;241;43m=\u001b[39;49m\u001b[43m \u001b[49m\u001b[38;5;124;43m'\u001b[39;49m\u001b[38;5;124;43mID_MUNICIP\u001b[39;49m\u001b[38;5;124;43m'\u001b[39;49m\u001b[43m,\u001b[49m\u001b[43m \u001b[49m\u001b[43mright_on\u001b[49m\u001b[43m \u001b[49m\u001b[38;5;241;43m=\u001b[39;49m\u001b[43m \u001b[49m\u001b[38;5;124;43m'\u001b[39;49m\u001b[38;5;124;43mmun\u001b[39;49m\u001b[38;5;124;43m'\u001b[39;49m\u001b[43m)\u001b[49m\n",
      "File \u001b[1;32m~\\Anaconda3\\lib\\site-packages\\pandas\\core\\frame.py:9345\u001b[0m, in \u001b[0;36mDataFrame.merge\u001b[1;34m(self, right, how, on, left_on, right_on, left_index, right_index, sort, suffixes, copy, indicator, validate)\u001b[0m\n\u001b[0;32m   9326\u001b[0m \u001b[38;5;129m@Substitution\u001b[39m(\u001b[38;5;124m\"\u001b[39m\u001b[38;5;124m\"\u001b[39m)\n\u001b[0;32m   9327\u001b[0m \u001b[38;5;129m@Appender\u001b[39m(_merge_doc, indents\u001b[38;5;241m=\u001b[39m\u001b[38;5;241m2\u001b[39m)\n\u001b[0;32m   9328\u001b[0m \u001b[38;5;28;01mdef\u001b[39;00m \u001b[38;5;21mmerge\u001b[39m(\n\u001b[1;32m   (...)\u001b[0m\n\u001b[0;32m   9341\u001b[0m     validate: \u001b[38;5;28mstr\u001b[39m \u001b[38;5;241m|\u001b[39m \u001b[38;5;28;01mNone\u001b[39;00m \u001b[38;5;241m=\u001b[39m \u001b[38;5;28;01mNone\u001b[39;00m,\n\u001b[0;32m   9342\u001b[0m ) \u001b[38;5;241m-\u001b[39m\u001b[38;5;241m>\u001b[39m DataFrame:\n\u001b[0;32m   9343\u001b[0m     \u001b[38;5;28;01mfrom\u001b[39;00m \u001b[38;5;21;01mpandas\u001b[39;00m\u001b[38;5;21;01m.\u001b[39;00m\u001b[38;5;21;01mcore\u001b[39;00m\u001b[38;5;21;01m.\u001b[39;00m\u001b[38;5;21;01mreshape\u001b[39;00m\u001b[38;5;21;01m.\u001b[39;00m\u001b[38;5;21;01mmerge\u001b[39;00m \u001b[38;5;28;01mimport\u001b[39;00m merge\n\u001b[1;32m-> 9345\u001b[0m     \u001b[38;5;28;01mreturn\u001b[39;00m \u001b[43mmerge\u001b[49m\u001b[43m(\u001b[49m\n\u001b[0;32m   9346\u001b[0m \u001b[43m        \u001b[49m\u001b[38;5;28;43mself\u001b[39;49m\u001b[43m,\u001b[49m\n\u001b[0;32m   9347\u001b[0m \u001b[43m        \u001b[49m\u001b[43mright\u001b[49m\u001b[43m,\u001b[49m\n\u001b[0;32m   9348\u001b[0m \u001b[43m        \u001b[49m\u001b[43mhow\u001b[49m\u001b[38;5;241;43m=\u001b[39;49m\u001b[43mhow\u001b[49m\u001b[43m,\u001b[49m\n\u001b[0;32m   9349\u001b[0m \u001b[43m        \u001b[49m\u001b[43mon\u001b[49m\u001b[38;5;241;43m=\u001b[39;49m\u001b[43mon\u001b[49m\u001b[43m,\u001b[49m\n\u001b[0;32m   9350\u001b[0m \u001b[43m        \u001b[49m\u001b[43mleft_on\u001b[49m\u001b[38;5;241;43m=\u001b[39;49m\u001b[43mleft_on\u001b[49m\u001b[43m,\u001b[49m\n\u001b[0;32m   9351\u001b[0m \u001b[43m        \u001b[49m\u001b[43mright_on\u001b[49m\u001b[38;5;241;43m=\u001b[39;49m\u001b[43mright_on\u001b[49m\u001b[43m,\u001b[49m\n\u001b[0;32m   9352\u001b[0m \u001b[43m        \u001b[49m\u001b[43mleft_index\u001b[49m\u001b[38;5;241;43m=\u001b[39;49m\u001b[43mleft_index\u001b[49m\u001b[43m,\u001b[49m\n\u001b[0;32m   9353\u001b[0m \u001b[43m        \u001b[49m\u001b[43mright_index\u001b[49m\u001b[38;5;241;43m=\u001b[39;49m\u001b[43mright_index\u001b[49m\u001b[43m,\u001b[49m\n\u001b[0;32m   9354\u001b[0m \u001b[43m        \u001b[49m\u001b[43msort\u001b[49m\u001b[38;5;241;43m=\u001b[39;49m\u001b[43msort\u001b[49m\u001b[43m,\u001b[49m\n\u001b[0;32m   9355\u001b[0m \u001b[43m        \u001b[49m\u001b[43msuffixes\u001b[49m\u001b[38;5;241;43m=\u001b[39;49m\u001b[43msuffixes\u001b[49m\u001b[43m,\u001b[49m\n\u001b[0;32m   9356\u001b[0m \u001b[43m        \u001b[49m\u001b[43mcopy\u001b[49m\u001b[38;5;241;43m=\u001b[39;49m\u001b[43mcopy\u001b[49m\u001b[43m,\u001b[49m\n\u001b[0;32m   9357\u001b[0m \u001b[43m        \u001b[49m\u001b[43mindicator\u001b[49m\u001b[38;5;241;43m=\u001b[39;49m\u001b[43mindicator\u001b[49m\u001b[43m,\u001b[49m\n\u001b[0;32m   9358\u001b[0m \u001b[43m        \u001b[49m\u001b[43mvalidate\u001b[49m\u001b[38;5;241;43m=\u001b[39;49m\u001b[43mvalidate\u001b[49m\u001b[43m,\u001b[49m\n\u001b[0;32m   9359\u001b[0m \u001b[43m    \u001b[49m\u001b[43m)\u001b[49m\n",
      "File \u001b[1;32m~\\Anaconda3\\lib\\site-packages\\pandas\\core\\reshape\\merge.py:107\u001b[0m, in \u001b[0;36mmerge\u001b[1;34m(left, right, how, on, left_on, right_on, left_index, right_index, sort, suffixes, copy, indicator, validate)\u001b[0m\n\u001b[0;32m     90\u001b[0m \u001b[38;5;129m@Substitution\u001b[39m(\u001b[38;5;124m\"\u001b[39m\u001b[38;5;130;01m\\n\u001b[39;00m\u001b[38;5;124mleft : DataFrame or named Series\u001b[39m\u001b[38;5;124m\"\u001b[39m)\n\u001b[0;32m     91\u001b[0m \u001b[38;5;129m@Appender\u001b[39m(_merge_doc, indents\u001b[38;5;241m=\u001b[39m\u001b[38;5;241m0\u001b[39m)\n\u001b[0;32m     92\u001b[0m \u001b[38;5;28;01mdef\u001b[39;00m \u001b[38;5;21mmerge\u001b[39m(\n\u001b[1;32m   (...)\u001b[0m\n\u001b[0;32m    105\u001b[0m     validate: \u001b[38;5;28mstr\u001b[39m \u001b[38;5;241m|\u001b[39m \u001b[38;5;28;01mNone\u001b[39;00m \u001b[38;5;241m=\u001b[39m \u001b[38;5;28;01mNone\u001b[39;00m,\n\u001b[0;32m    106\u001b[0m ) \u001b[38;5;241m-\u001b[39m\u001b[38;5;241m>\u001b[39m DataFrame:\n\u001b[1;32m--> 107\u001b[0m     op \u001b[38;5;241m=\u001b[39m \u001b[43m_MergeOperation\u001b[49m\u001b[43m(\u001b[49m\n\u001b[0;32m    108\u001b[0m \u001b[43m        \u001b[49m\u001b[43mleft\u001b[49m\u001b[43m,\u001b[49m\n\u001b[0;32m    109\u001b[0m \u001b[43m        \u001b[49m\u001b[43mright\u001b[49m\u001b[43m,\u001b[49m\n\u001b[0;32m    110\u001b[0m \u001b[43m        \u001b[49m\u001b[43mhow\u001b[49m\u001b[38;5;241;43m=\u001b[39;49m\u001b[43mhow\u001b[49m\u001b[43m,\u001b[49m\n\u001b[0;32m    111\u001b[0m \u001b[43m        \u001b[49m\u001b[43mon\u001b[49m\u001b[38;5;241;43m=\u001b[39;49m\u001b[43mon\u001b[49m\u001b[43m,\u001b[49m\n\u001b[0;32m    112\u001b[0m \u001b[43m        \u001b[49m\u001b[43mleft_on\u001b[49m\u001b[38;5;241;43m=\u001b[39;49m\u001b[43mleft_on\u001b[49m\u001b[43m,\u001b[49m\n\u001b[0;32m    113\u001b[0m \u001b[43m        \u001b[49m\u001b[43mright_on\u001b[49m\u001b[38;5;241;43m=\u001b[39;49m\u001b[43mright_on\u001b[49m\u001b[43m,\u001b[49m\n\u001b[0;32m    114\u001b[0m \u001b[43m        \u001b[49m\u001b[43mleft_index\u001b[49m\u001b[38;5;241;43m=\u001b[39;49m\u001b[43mleft_index\u001b[49m\u001b[43m,\u001b[49m\n\u001b[0;32m    115\u001b[0m \u001b[43m        \u001b[49m\u001b[43mright_index\u001b[49m\u001b[38;5;241;43m=\u001b[39;49m\u001b[43mright_index\u001b[49m\u001b[43m,\u001b[49m\n\u001b[0;32m    116\u001b[0m \u001b[43m        \u001b[49m\u001b[43msort\u001b[49m\u001b[38;5;241;43m=\u001b[39;49m\u001b[43msort\u001b[49m\u001b[43m,\u001b[49m\n\u001b[0;32m    117\u001b[0m \u001b[43m        \u001b[49m\u001b[43msuffixes\u001b[49m\u001b[38;5;241;43m=\u001b[39;49m\u001b[43msuffixes\u001b[49m\u001b[43m,\u001b[49m\n\u001b[0;32m    118\u001b[0m \u001b[43m        \u001b[49m\u001b[43mcopy\u001b[49m\u001b[38;5;241;43m=\u001b[39;49m\u001b[43mcopy\u001b[49m\u001b[43m,\u001b[49m\n\u001b[0;32m    119\u001b[0m \u001b[43m        \u001b[49m\u001b[43mindicator\u001b[49m\u001b[38;5;241;43m=\u001b[39;49m\u001b[43mindicator\u001b[49m\u001b[43m,\u001b[49m\n\u001b[0;32m    120\u001b[0m \u001b[43m        \u001b[49m\u001b[43mvalidate\u001b[49m\u001b[38;5;241;43m=\u001b[39;49m\u001b[43mvalidate\u001b[49m\u001b[43m,\u001b[49m\n\u001b[0;32m    121\u001b[0m \u001b[43m    \u001b[49m\u001b[43m)\u001b[49m\n\u001b[0;32m    122\u001b[0m     \u001b[38;5;28;01mreturn\u001b[39;00m op\u001b[38;5;241m.\u001b[39mget_result()\n",
      "File \u001b[1;32m~\\Anaconda3\\lib\\site-packages\\pandas\\core\\reshape\\merge.py:704\u001b[0m, in \u001b[0;36m_MergeOperation.__init__\u001b[1;34m(self, left, right, how, on, left_on, right_on, axis, left_index, right_index, sort, suffixes, copy, indicator, validate)\u001b[0m\n\u001b[0;32m    696\u001b[0m (\n\u001b[0;32m    697\u001b[0m     \u001b[38;5;28mself\u001b[39m\u001b[38;5;241m.\u001b[39mleft_join_keys,\n\u001b[0;32m    698\u001b[0m     \u001b[38;5;28mself\u001b[39m\u001b[38;5;241m.\u001b[39mright_join_keys,\n\u001b[0;32m    699\u001b[0m     \u001b[38;5;28mself\u001b[39m\u001b[38;5;241m.\u001b[39mjoin_names,\n\u001b[0;32m    700\u001b[0m ) \u001b[38;5;241m=\u001b[39m \u001b[38;5;28mself\u001b[39m\u001b[38;5;241m.\u001b[39m_get_merge_keys()\n\u001b[0;32m    702\u001b[0m \u001b[38;5;66;03m# validate the merge keys dtypes. We may need to coerce\u001b[39;00m\n\u001b[0;32m    703\u001b[0m \u001b[38;5;66;03m# to avoid incompatible dtypes\u001b[39;00m\n\u001b[1;32m--> 704\u001b[0m \u001b[38;5;28;43mself\u001b[39;49m\u001b[38;5;241;43m.\u001b[39;49m\u001b[43m_maybe_coerce_merge_keys\u001b[49m\u001b[43m(\u001b[49m\u001b[43m)\u001b[49m\n\u001b[0;32m    706\u001b[0m \u001b[38;5;66;03m# If argument passed to validate,\u001b[39;00m\n\u001b[0;32m    707\u001b[0m \u001b[38;5;66;03m# check if columns specified as unique\u001b[39;00m\n\u001b[0;32m    708\u001b[0m \u001b[38;5;66;03m# are in fact unique.\u001b[39;00m\n\u001b[0;32m    709\u001b[0m \u001b[38;5;28;01mif\u001b[39;00m validate \u001b[38;5;129;01mis\u001b[39;00m \u001b[38;5;129;01mnot\u001b[39;00m \u001b[38;5;28;01mNone\u001b[39;00m:\n",
      "File \u001b[1;32m~\\Anaconda3\\lib\\site-packages\\pandas\\core\\reshape\\merge.py:1257\u001b[0m, in \u001b[0;36m_MergeOperation._maybe_coerce_merge_keys\u001b[1;34m(self)\u001b[0m\n\u001b[0;32m   1251\u001b[0m     \u001b[38;5;66;03m# unless we are merging non-string-like with string-like\u001b[39;00m\n\u001b[0;32m   1252\u001b[0m     \u001b[38;5;28;01melif\u001b[39;00m (\n\u001b[0;32m   1253\u001b[0m         inferred_left \u001b[38;5;129;01min\u001b[39;00m string_types \u001b[38;5;129;01mand\u001b[39;00m inferred_right \u001b[38;5;129;01mnot\u001b[39;00m \u001b[38;5;129;01min\u001b[39;00m string_types\n\u001b[0;32m   1254\u001b[0m     ) \u001b[38;5;129;01mor\u001b[39;00m (\n\u001b[0;32m   1255\u001b[0m         inferred_right \u001b[38;5;129;01min\u001b[39;00m string_types \u001b[38;5;129;01mand\u001b[39;00m inferred_left \u001b[38;5;129;01mnot\u001b[39;00m \u001b[38;5;129;01min\u001b[39;00m string_types\n\u001b[0;32m   1256\u001b[0m     ):\n\u001b[1;32m-> 1257\u001b[0m         \u001b[38;5;28;01mraise\u001b[39;00m \u001b[38;5;167;01mValueError\u001b[39;00m(msg)\n\u001b[0;32m   1259\u001b[0m \u001b[38;5;66;03m# datetimelikes must match exactly\u001b[39;00m\n\u001b[0;32m   1260\u001b[0m \u001b[38;5;28;01melif\u001b[39;00m needs_i8_conversion(lk\u001b[38;5;241m.\u001b[39mdtype) \u001b[38;5;129;01mand\u001b[39;00m \u001b[38;5;129;01mnot\u001b[39;00m needs_i8_conversion(rk\u001b[38;5;241m.\u001b[39mdtype):\n",
      "\u001b[1;31mValueError\u001b[0m: You are trying to merge on object and int32 columns. If you wish to proceed you should use pd.concat"
     ]
    }
   ],
   "source": [
    "city_data = city_data.merge(df_cities, how = 'left', left_on = 'ID_MUNICIP', right_on = 'mun')"
   ]
  },
  {
   "cell_type": "code",
   "execution_count": null,
   "id": "5e9a940c",
   "metadata": {},
   "outputs": [],
   "source": [
    "city_data['CASES_100K'] = (10**5)*city_data['CASES']/city_data['Total']"
   ]
  },
  {
   "cell_type": "code",
   "execution_count": null,
   "id": "b57fde0b",
   "metadata": {},
   "outputs": [],
   "source": [
    "city_data = city_data.sort_values(by = 'CASES', ascending = False)"
   ]
  },
  {
   "cell_type": "code",
   "execution_count": null,
   "id": "a4d03440",
   "metadata": {},
   "outputs": [],
   "source": [
    "city_data"
   ]
  },
  {
   "cell_type": "code",
   "execution_count": null,
   "id": "be6e81e1",
   "metadata": {},
   "outputs": [],
   "source": [
    "muns_high = city_data.head(300)['ID_MUNICIP'].to_numpy()\n",
    "muns_high_cases_100k = city_data.head(300)['CASES_100K'].to_numpy()\n",
    "muns_high_cases = city_data.head(300)['CASES'].to_numpy()\n",
    "muns_high_age = []"
   ]
  },
  {
   "cell_type": "code",
   "execution_count": null,
   "id": "caefc624",
   "metadata": {},
   "outputs": [],
   "source": [
    "muns_high"
   ]
  },
  {
   "cell_type": "code",
   "execution_count": null,
   "id": "9266377f",
   "metadata": {
    "scrolled": true
   },
   "outputs": [],
   "source": [
    "for mun in muns_high:\n",
    "    print(mun)  \n",
    "    a = process_rates(age_data, df, mun)\n",
    "    list_ano = []\n",
    "    for ano in a['NU_ANO'].unique():\n",
    "        list_ano.append(a[a['NU_ANO'] == ano]['value'].tolist())\n",
    "    list_ano = np.array(list_ano)\n",
    "    list_ano_mean = np.mean(list_ano, axis = 0)\n",
    "    muns_high_age.append(np.argmax(list_ano_mean))\n",
    "    #plt.plot(age_categories,list_ano_mean)\n",
    "    plt.show()"
   ]
  },
  {
   "cell_type": "code",
   "execution_count": null,
   "id": "3b073a3f",
   "metadata": {},
   "outputs": [],
   "source": [
    "plt.plot(muns_high_cases_100k,muns_high_age,'o', color = 'black')\n",
    "plt.xlabel('Cases per 100k inhabitants')\n",
    "plt.ylabel('Age group with highest incidence')\n",
    "plt.yticks(np.arange(0,11,1), labels = age_categories)\n",
    "plt.show()"
   ]
  },
  {
   "cell_type": "code",
   "execution_count": null,
   "id": "bf2dda49",
   "metadata": {},
   "outputs": [],
   "source": [
    "a = plt.hist(muns_high_age, bins = np.arange(0,12,1), edgecolor = 'black', color = 'red')\n",
    "plt.xlabel('Leading Age Group')\n",
    "plt.ylabel('Frequency')\n",
    "plt.xticks(np.arange(0,11,1)+0.5, labels = age_categories,  rotation = 'vertical')\n",
    "plt.show()"
   ]
  },
  {
   "cell_type": "markdown",
   "id": "24e30914",
   "metadata": {},
   "source": [
    "## Cities with the most cases - examples"
   ]
  },
  {
   "cell_type": "markdown",
   "id": "c37ba091",
   "metadata": {},
   "source": [
    "### The ones with low age groups infected the most"
   ]
  },
  {
   "cell_type": "code",
   "execution_count": null,
   "id": "a242eec3",
   "metadata": {},
   "outputs": [],
   "source": [
    "muns_low = (np.array(muns_high_age) == 0) + (np.array(muns_high_age) == 1) + (np.array(muns_high_age) == 2)\n",
    "muns_low_cities = muns_high[muns_low]\n",
    "print(muns_low_cities)"
   ]
  },
  {
   "cell_type": "code",
   "execution_count": null,
   "id": "9ee176e9",
   "metadata": {
    "scrolled": false
   },
   "outputs": [],
   "source": [
    "for mun in muns_low_cities:\n",
    "    a = process_rates(age_data, df, mun)\n",
    "    list_ano = []\n",
    "    for ano in a['NU_ANO'].unique():\n",
    "        list_ano.append(a[a['NU_ANO'] == ano]['value'].tolist())\n",
    "    list_ano = np.array(list_ano)\n",
    "    list_ano_mean = np.mean(list_ano, axis = 0)\n",
    "    list_ano_std = np.std(list_ano, axis = 0)\n",
    "\n",
    "    i = 0\n",
    "    for year in a['NU_ANO'].unique():\n",
    "        a_tmp = a[a['NU_ANO'] == year]\n",
    "        plt.plot(a_tmp['age_range'],a_tmp['value'],'-o', label = year, linewidth = 2)\n",
    "        i = i + 1\n",
    "    plt.plot(a_tmp['age_range'],list_ano_mean,color = 'k', linewidth = 3)\n",
    "    plt.plot(a_tmp['age_range'], list_ano_mean + list_ano_std, color = 'blue', linewidth = 3)\n",
    "    plt.plot(a_tmp['age_range'], list_ano_mean - list_ano_std, color = 'blue', linewidth = 3)\n",
    "    plt.fill_between(a_tmp['age_range'],list_ano_mean, list_ano_mean+list_ano_std, color='blue',alpha = 0.5)\n",
    "    plt.fill_between(a_tmp['age_range'],list_ano_mean, list_ano_mean-list_ano_std, color='blue',alpha = 0.5)\n",
    "    plt.xticks(rotation = 'vertical')\n",
    "    plt.title(mun)\n",
    "    plt.show()"
   ]
  },
  {
   "cell_type": "markdown",
   "id": "d03f2230",
   "metadata": {},
   "source": [
    "### São Paulo"
   ]
  },
  {
   "cell_type": "code",
   "execution_count": null,
   "id": "a43bf379",
   "metadata": {},
   "outputs": [],
   "source": [
    "a = process_rates(age_data, df, 355030)\n",
    "\n",
    "list_ano = []\n",
    "for ano in a['NU_ANO'].unique():\n",
    "    list_ano.append(a[a['NU_ANO'] == ano]['value'].tolist())\n",
    "list_ano = np.array(list_ano)\n",
    "list_ano_mean = np.mean(list_ano, axis = 0)\n",
    "list_ano_std = np.std(list_ano, axis = 0)\n",
    "\n",
    "i = 0\n",
    "for year in a['NU_ANO'].unique():\n",
    "    a_tmp = a[a['NU_ANO'] == year]\n",
    "    plt.plot(a_tmp['age_range'],a_tmp['value'],'-o', label = year, linewidth = 2)\n",
    "    i = i + 1\n",
    "plt.plot(a_tmp['age_range'],list_ano_mean,color = 'k', linewidth = 3)\n",
    "plt.plot(a_tmp['age_range'], list_ano_mean + list_ano_std, color = 'blue', linewidth = 3)\n",
    "plt.plot(a_tmp['age_range'], list_ano_mean - list_ano_std, color = 'blue', linewidth = 3)\n",
    "plt.fill_between(a_tmp['age_range'],list_ano_mean, list_ano_mean+list_ano_std, color='blue',alpha = 0.5)\n",
    "plt.fill_between(a_tmp['age_range'],list_ano_mean, list_ano_mean-list_ano_std, color='blue',alpha = 0.5)\n",
    "plt.xticks(rotation = 'vertical')\n",
    "plt.title('São Paulo')\n",
    "plt.show()"
   ]
  },
  {
   "cell_type": "markdown",
   "id": "9d133a86",
   "metadata": {},
   "source": [
    "### Rio de Janeiro"
   ]
  },
  {
   "cell_type": "code",
   "execution_count": null,
   "id": "a6590e06",
   "metadata": {},
   "outputs": [],
   "source": [
    "a = process_rates(age_data, df, 330455)\n",
    "\n",
    "list_ano = []\n",
    "for ano in a['NU_ANO'].unique():\n",
    "    list_ano.append(a[a['NU_ANO'] == ano]['value'].tolist())\n",
    "list_ano = np.array(list_ano)\n",
    "list_ano_mean = np.mean(list_ano, axis = 0)\n",
    "list_ano_std = np.std(list_ano, axis = 0)\n",
    "\n",
    "i = 0\n",
    "for year in a['NU_ANO'].unique():\n",
    "    a_tmp = a[a['NU_ANO'] == year]\n",
    "    plt.plot(a_tmp['age_range'],a_tmp['value'],'-o', label = year, linewidth = 2)\n",
    "    i = i + 1\n",
    "plt.plot(a_tmp['age_range'],list_ano_mean,color = 'k', linewidth = 3)\n",
    "plt.plot(a_tmp['age_range'], list_ano_mean + list_ano_std, color = 'blue', linewidth = 3)\n",
    "plt.plot(a_tmp['age_range'], list_ano_mean - list_ano_std, color = 'blue', linewidth = 3)\n",
    "plt.fill_between(a_tmp['age_range'],list_ano_mean, list_ano_mean+list_ano_std, color='blue',alpha = 0.5)\n",
    "plt.fill_between(a_tmp['age_range'],list_ano_mean, list_ano_mean-list_ano_std, color='blue',alpha = 0.5)\n",
    "plt.xticks(rotation = 'vertical')\n",
    "plt.title('Rio de Janeiro')\n",
    "plt.show()"
   ]
  },
  {
   "cell_type": "markdown",
   "id": "9a48266d",
   "metadata": {},
   "source": [
    "### Recife"
   ]
  },
  {
   "cell_type": "code",
   "execution_count": null,
   "id": "19208339",
   "metadata": {},
   "outputs": [],
   "source": [
    "a = process_rates(age_data, df, 261160)\n",
    "\n",
    "list_ano = []\n",
    "for ano in a['NU_ANO'].unique():\n",
    "    list_ano.append(a[a['NU_ANO'] == ano]['value'].tolist())\n",
    "list_ano = np.array(list_ano)\n",
    "list_ano_mean = np.mean(list_ano, axis = 0)\n",
    "list_ano_std = np.std(list_ano, axis = 0)\n",
    "\n",
    "i = 0\n",
    "for year in a['NU_ANO'].unique():\n",
    "    a_tmp = a[a['NU_ANO'] == year]\n",
    "    plt.plot(a_tmp['age_range'],a_tmp['value'],'-o', label = year, linewidth = 2)\n",
    "    i = i + 1\n",
    "plt.plot(a_tmp['age_range'],list_ano_mean,color = 'k', linewidth = 3)\n",
    "plt.plot(a_tmp['age_range'], list_ano_mean + list_ano_std, color = 'blue', linewidth = 3)\n",
    "plt.plot(a_tmp['age_range'], list_ano_mean - list_ano_std, color = 'blue', linewidth = 3)\n",
    "plt.fill_between(a_tmp['age_range'],list_ano_mean, list_ano_mean+list_ano_std, color='blue',alpha = 0.5)\n",
    "plt.fill_between(a_tmp['age_range'],list_ano_mean, list_ano_mean-list_ano_std, color='blue',alpha = 0.5)\n",
    "plt.xticks(rotation = 'vertical')\n",
    "plt.title('Recife')\n",
    "plt.show()"
   ]
  },
  {
   "cell_type": "markdown",
   "id": "9e2a4737",
   "metadata": {},
   "source": [
    "### Salvador"
   ]
  },
  {
   "cell_type": "code",
   "execution_count": null,
   "id": "6e14b0e8",
   "metadata": {},
   "outputs": [],
   "source": [
    "a = process_rates(age_data, df, 292740)\n",
    "\n",
    "list_ano = []\n",
    "for ano in a['NU_ANO'].unique():\n",
    "    list_ano.append(a[a['NU_ANO'] == ano]['value'].tolist())\n",
    "list_ano = np.array(list_ano)\n",
    "list_ano_mean = np.mean(list_ano, axis = 0)\n",
    "list_ano_std = np.std(list_ano, axis = 0)\n",
    "\n",
    "i = 0\n",
    "for year in a['NU_ANO'].unique():\n",
    "    a_tmp = a[a['NU_ANO'] == year]\n",
    "    plt.plot(a_tmp['age_range'],a_tmp['value'],'-o', label = year, linewidth = 2)\n",
    "    i = i + 1\n",
    "plt.plot(a_tmp['age_range'],list_ano_mean,color = 'k', linewidth = 3)\n",
    "plt.plot(a_tmp['age_range'], list_ano_mean + list_ano_std, color = 'blue', linewidth = 3)\n",
    "plt.plot(a_tmp['age_range'], list_ano_mean - list_ano_std, color = 'blue', linewidth = 3)\n",
    "plt.fill_between(a_tmp['age_range'],list_ano_mean, list_ano_mean+list_ano_std, color='blue',alpha = 0.5)\n",
    "plt.fill_between(a_tmp['age_range'],list_ano_mean, list_ano_mean-list_ano_std, color='blue',alpha = 0.5)\n",
    "plt.xticks(rotation = 'vertical')\n",
    "plt.title('Salvador')\n",
    "plt.show()"
   ]
  },
  {
   "cell_type": "markdown",
   "id": "dcaf65e3",
   "metadata": {},
   "source": [
    "### São Luis"
   ]
  },
  {
   "cell_type": "code",
   "execution_count": null,
   "id": "c17f5832",
   "metadata": {},
   "outputs": [],
   "source": [
    "a = process_rates(age_data, df, 211130)\n",
    "\n",
    "list_ano = []\n",
    "for ano in a['NU_ANO'].unique():\n",
    "    list_ano.append(a[a['NU_ANO'] == ano]['value'].tolist())\n",
    "list_ano = np.array(list_ano)\n",
    "list_ano_mean = np.mean(list_ano, axis = 0)\n",
    "list_ano_std = np.std(list_ano, axis = 0)\n",
    "\n",
    "i = 0\n",
    "for year in a['NU_ANO'].unique():\n",
    "    a_tmp = a[a['NU_ANO'] == year]\n",
    "    plt.plot(a_tmp['age_range'],a_tmp['value'],'-o', label = year, linewidth = 2)\n",
    "    i = i + 1\n",
    "plt.plot(a_tmp['age_range'],list_ano_mean,color = 'k', linewidth = 3)\n",
    "plt.plot(a_tmp['age_range'], list_ano_mean + list_ano_std, color = 'blue', linewidth = 3)\n",
    "plt.plot(a_tmp['age_range'], list_ano_mean - list_ano_std, color = 'blue', linewidth = 3)\n",
    "plt.fill_between(a_tmp['age_range'],list_ano_mean, list_ano_mean+list_ano_std, color='blue',alpha = 0.5)\n",
    "plt.fill_between(a_tmp['age_range'],list_ano_mean, list_ano_mean-list_ano_std, color='blue',alpha = 0.5)\n",
    "plt.xticks(rotation = 'vertical')\n",
    "plt.title('São Luis - Maranhão')\n",
    "plt.show()"
   ]
  },
  {
   "cell_type": "markdown",
   "id": "1b403335",
   "metadata": {},
   "source": [
    "### Santos"
   ]
  },
  {
   "cell_type": "code",
   "execution_count": null,
   "id": "3b77c1a8",
   "metadata": {},
   "outputs": [],
   "source": [
    "a = process_rates(age_data, df, 354850)\n",
    "\n",
    "list_ano = []\n",
    "for ano in a['NU_ANO'].unique():\n",
    "    list_ano.append(a[a['NU_ANO'] == ano]['value'].tolist())\n",
    "list_ano = np.array(list_ano)\n",
    "list_ano_mean = np.mean(list_ano, axis = 0)\n",
    "list_ano_std = np.std(list_ano, axis = 0)\n",
    "\n",
    "i = 0\n",
    "for year in a['NU_ANO'].unique():\n",
    "    a_tmp = a[a['NU_ANO'] == year]\n",
    "    plt.plot(a_tmp['age_range'],a_tmp['value'],'-o', label = year, linewidth = 2)\n",
    "    i = i + 1\n",
    "plt.plot(a_tmp['age_range'],list_ano_mean,color = 'k', linewidth = 3)\n",
    "plt.plot(a_tmp['age_range'], list_ano_mean + list_ano_std, color = 'blue', linewidth = 3)\n",
    "plt.plot(a_tmp['age_range'], list_ano_mean - list_ano_std, color = 'blue', linewidth = 3)\n",
    "plt.fill_between(a_tmp['age_range'],list_ano_mean, list_ano_mean+list_ano_std, color='blue',alpha = 0.5)\n",
    "plt.fill_between(a_tmp['age_range'],list_ano_mean, list_ano_mean-list_ano_std, color='blue',alpha = 0.5)\n",
    "plt.xticks(rotation = 'vertical')\n",
    "plt.title('Santos')\n",
    "plt.show()"
   ]
  },
  {
   "cell_type": "markdown",
   "id": "32aa475a",
   "metadata": {},
   "source": [
    "### Natal"
   ]
  },
  {
   "cell_type": "code",
   "execution_count": null,
   "id": "a32869bb",
   "metadata": {},
   "outputs": [],
   "source": [
    "a = process_rates(age_data, df, 240810)\n",
    "\n",
    "list_ano = []\n",
    "for ano in a['NU_ANO'].unique():\n",
    "    list_ano.append(a[a['NU_ANO'] == ano]['value'].tolist())\n",
    "list_ano = np.array(list_ano)\n",
    "list_ano_mean = np.mean(list_ano, axis = 0)\n",
    "list_ano_std = np.std(list_ano, axis = 0)\n",
    "\n",
    "i = 0\n",
    "for year in a['NU_ANO'].unique():\n",
    "    a_tmp = a[a['NU_ANO'] == year]\n",
    "    plt.plot(a_tmp['age_range'],a_tmp['value'],'-o', label = year, linewidth = 2)\n",
    "    i = i + 1\n",
    "plt.plot(a_tmp['age_range'],list_ano_mean,color = 'k', linewidth = 3)\n",
    "plt.plot(a_tmp['age_range'], list_ano_mean + list_ano_std, color = 'blue', linewidth = 3)\n",
    "plt.plot(a_tmp['age_range'], list_ano_mean - list_ano_std, color = 'blue', linewidth = 3)\n",
    "plt.fill_between(a_tmp['age_range'],list_ano_mean, list_ano_mean+list_ano_std, color='blue',alpha = 0.5)\n",
    "plt.fill_between(a_tmp['age_range'],list_ano_mean, list_ano_mean-list_ano_std, color='blue',alpha = 0.5)\n",
    "plt.xticks(rotation = 'vertical')\n",
    "plt.title('Natal')\n",
    "plt.show()"
   ]
  },
  {
   "cell_type": "markdown",
   "id": "3a89aef9",
   "metadata": {},
   "source": [
    "### Manaus"
   ]
  },
  {
   "cell_type": "code",
   "execution_count": null,
   "id": "b19107b0",
   "metadata": {},
   "outputs": [],
   "source": [
    "a = process_rates(age_data, df, 130260)\n",
    "\n",
    "list_ano = []\n",
    "for ano in a['NU_ANO'].unique():\n",
    "    list_ano.append(a[a['NU_ANO'] == ano]['value'].tolist())\n",
    "list_ano = np.array(list_ano)\n",
    "list_ano_mean = np.mean(list_ano, axis = 0)\n",
    "list_ano_std = np.std(list_ano, axis = 0)\n",
    "\n",
    "i = 0\n",
    "for year in a['NU_ANO'].unique():\n",
    "    a_tmp = a[a['NU_ANO'] == year]\n",
    "    plt.plot(a_tmp['age_range'],a_tmp['value'],'-o', label = year, linewidth = 2)\n",
    "    i = i + 1\n",
    "plt.plot(a_tmp['age_range'],list_ano_mean,color = 'k', linewidth = 3)\n",
    "plt.plot(a_tmp['age_range'], list_ano_mean + list_ano_std, color = 'blue', linewidth = 3)\n",
    "plt.plot(a_tmp['age_range'], list_ano_mean - list_ano_std, color = 'blue', linewidth = 3)\n",
    "plt.fill_between(a_tmp['age_range'],list_ano_mean, list_ano_mean+list_ano_std, color='blue',alpha = 0.5)\n",
    "plt.fill_between(a_tmp['age_range'],list_ano_mean, list_ano_mean-list_ano_std, color='blue',alpha = 0.5)\n",
    "plt.xticks(rotation = 'vertical')\n",
    "plt.title('Manaus')\n",
    "plt.show()"
   ]
  },
  {
   "cell_type": "markdown",
   "id": "b79d6041",
   "metadata": {},
   "source": [
    "### Fortaleza"
   ]
  },
  {
   "cell_type": "code",
   "execution_count": null,
   "id": "987b340c",
   "metadata": {},
   "outputs": [],
   "source": [
    "a = process_rates(age_data, df, 230440)\n",
    "\n",
    "list_ano = []\n",
    "for ano in a['NU_ANO'].unique():\n",
    "    list_ano.append(a[a['NU_ANO'] == ano]['value'].tolist())\n",
    "list_ano = np.array(list_ano)\n",
    "list_ano_mean = np.mean(list_ano, axis = 0)\n",
    "list_ano_std = np.std(list_ano, axis = 0)\n",
    "\n",
    "i = 0\n",
    "for year in a['NU_ANO'].unique():\n",
    "    a_tmp = a[a['NU_ANO'] == year]\n",
    "    plt.plot(a_tmp['age_range'],a_tmp['value'],'-o', label = year, linewidth = 2)\n",
    "    i = i + 1\n",
    "plt.plot(a_tmp['age_range'],list_ano_mean,color = 'k', linewidth = 3)\n",
    "plt.plot(a_tmp['age_range'], list_ano_mean + list_ano_std, color = 'blue', linewidth = 3)\n",
    "plt.plot(a_tmp['age_range'], list_ano_mean - list_ano_std, color = 'blue', linewidth = 3)\n",
    "plt.fill_between(a_tmp['age_range'],list_ano_mean, list_ano_mean+list_ano_std, color='blue',alpha = 0.5)\n",
    "plt.fill_between(a_tmp['age_range'],list_ano_mean, list_ano_mean-list_ano_std, color='blue',alpha = 0.5)\n",
    "plt.xticks(rotation = 'vertical')\n",
    "plt.title('Fortaleza')\n",
    "plt.show()"
   ]
  }
 ],
 "metadata": {
  "kernelspec": {
   "display_name": "Python 3 (ipykernel)",
   "language": "python",
   "name": "python3"
  },
  "language_info": {
   "codemirror_mode": {
    "name": "ipython",
    "version": 3
   },
   "file_extension": ".py",
   "mimetype": "text/x-python",
   "name": "python",
   "nbconvert_exporter": "python",
   "pygments_lexer": "ipython3",
   "version": "3.8.16"
  }
 },
 "nbformat": 4,
 "nbformat_minor": 5
}
